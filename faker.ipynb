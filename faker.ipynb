{
 "cells": [
  {
   "cell_type": "code",
   "execution_count": 91,
   "metadata": {},
   "outputs": [
    {
     "name": "stdout",
     "output_type": "stream",
     "text": [
      "-----------------------------------------------------------------------------------------------------------------------------------------------------\n",
      "Post 1 Creating --->>>>\n",
      "Response:  {'title': 'Jason Clark', 'content': 'Hundred country how down final add investment necessary. Rule stuff police people. Suggest become ever play total.', 'published': True, 'id': 408, 'created_at': '2022-08-15T21:06:29.282524+00:00', 'owner_id': 10, 'owner': {'id': 10, 'email': 'fastapi12345678@fastapi.com', 'created_at': '2022-08-15T10:39:04.662813+00:00'}}\n",
      "Post 1 Created !!!\n",
      "-----------------------------------------------------------------------------------------------------------------------------------------------------\n",
      "Post 2 Creating --->>>>\n",
      "Response:  {'title': 'Angela Brown', 'content': 'Wall beyond discussion stage another common. Question few old plan eight ahead stock hear.', 'published': True, 'id': 409, 'created_at': '2022-08-15T21:06:32.016596+00:00', 'owner_id': 8, 'owner': {'id': 8, 'email': 'fastapi123456@fastapi.com', 'created_at': '2022-08-15T10:38:58.133098+00:00'}}\n",
      "Post 2 Created !!!\n"
     ]
    }
   ],
   "source": [
    "# Generating Fake Data with Python - Using Faker to create a fake dataset\n",
    "for iii in range(1,3):\n",
    "    print(\"-----------------------------------------------------------------------------------------------------------------------------------------------------\")    \n",
    "    print(\"Post\", iii , \"Creating --->>>>\")\n",
    "    import requests,random\n",
    "    from faker import Faker\n",
    "        \n",
    "        \n",
    "    ## Get Users From PostgreSQL\n",
    "    api_users  = []\n",
    "    users_url = 'https://fastapi-test1-iozberk.herokuapp.com/users'\n",
    "    users = requests.get(users_url)\n",
    "    data = users.json()\n",
    "    random_login_user = None\n",
    "    for i in range(1, 21):\n",
    "        api_users.append(data[i]['email'])\n",
    "\n",
    "    random_login_user : str = random.choice(api_users)\n",
    "\n",
    "    # Fake title and content\n",
    "\n",
    "    faker = Faker('en_US')\n",
    "    titles = faker.name()\n",
    "    lorems = faker.paragraph(nb_sentences=3)\n",
    "\n",
    "    # Login and Authenticate    \n",
    "    login_url = 'https://fastapi-test1-iozberk.herokuapp.com/login'\n",
    "    post_url = 'https://fastapi-test1-iozberk.herokuapp.com/posts'\n",
    "\n",
    "    login_payload = {'username': f'{random_login_user}','password':'Password1!'}\n",
    "    login_response = requests.post(login_url,data= login_payload)\n",
    "    access_token = login_response.json()[\"access_token\"]\n",
    "    # print(\"Token: \", access_token)\n",
    "\n",
    "    # Post Fake Data\n",
    "\n",
    "    post_payload = {'title': f'{titles}','content': f'{lorems}', 'published': random.choice([True, False])}\n",
    "    headers = {'Authorization': 'Bearer ' + access_token}\n",
    "    post_response = requests.post(post_url,json= post_payload, headers=headers)\n",
    "\n",
    "    print(\"Response: \", post_response.json())\n",
    "    print(\"Post\", iii , \"Created !!!\")\n"
   ]
  }
 ],
 "metadata": {
  "kernelspec": {
   "display_name": "Python 3.10.4 ('venv': venv)",
   "language": "python",
   "name": "python3"
  },
  "language_info": {
   "name": "python",
   "version": "3.10.4"
  },
  "orig_nbformat": 4,
  "vscode": {
   "interpreter": {
    "hash": "43ec7b16f31ae6cec675b2eea1f3a2ba0e7ed0db2bda2b826047f7aac6900c65"
   }
  }
 },
 "nbformat": 4,
 "nbformat_minor": 2
}
