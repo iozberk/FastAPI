{
 "cells": [
  {
   "cell_type": "code",
   "execution_count": null,
   "metadata": {},
   "outputs": [],
   "source": [
    "import requests\n",
    "from requests.auth import HTTPBasicAuth\n",
    "\n",
    "login_url = 'https://fastapi-test1-iozberk.herokuapp.com/login'\n",
    "usernames = [\"fastapi@fastapi.com\", \"fastapi1@fastapi.com\",\"fastapi12@fastapi.com\", \"fastapi123@fastapi.com\", \"fastapi1234@fastapi.com\", \"fastapi12345@fastapi.com\", \"fastapi123456@fastapi.com\", \"fastapi1234567@fastapi.com\", \"fastapi12345678@fastapi.com\", \"fastapi123456789@fastapi.com\"]\n",
    "payload = {'username':'fastapi@fastapi.com','password':'Password1!'}\n",
    "\n",
    "# User Login\n",
    "\n",
    "response = requests.post(login_url,data=payload)\n",
    "access_token = response.json()[\"access_token\"]\n",
    "print(access_token)\n",
    "\n",
    "\n",
    "# Vote posts\n",
    "\n",
    "vote_data = {\"post_id\": 21,\"dir\": 1}\n",
    "\n",
    "import requests\n",
    "vote_url = \"https://fastapi-test1-iozberk.herokuapp.com/vote\"\n",
    "vote_data = {\"post_id\": 21,\"dir\": 1}\n",
    "\n",
    "headers = {'Authorization': 'Bearer ' + access_token}\n",
    "auth_response = requests.post(vote_url, json=vote_data, headers=headers)\n",
    "\n",
    "print(auth_response.json())"
   ]
  },
  {
   "cell_type": "code",
   "execution_count": null,
   "metadata": {},
   "outputs": [],
   "source": [
    "import requests\n",
    "\n",
    "login_url = 'https://fastapi-test1-iozberk.herokuapp.com/login'\n",
    "vote_url = \"https://fastapi-test1-iozberk.herokuapp.com/vote\"\n",
    "usernames = [\"fastapi@fastapi.com\", \"fastapi1@fastapi.com\",\"fastapi12@fastapi.com\", \"fastapi123@fastapi.com\", \"fastapi1234@fastapi.com\", \"fastapi12345@fastapi.com\", \"fastapi123456@fastapi.com\", \"fastapi1234567@fastapi.com\", \"fastapi12345678@fastapi.com\", \"fastapi123456789@fastapi.com\"]\n",
    "\n",
    "for i in range(0,10):\n",
    "    payload = {'username':usernames[i],'password':'Password1!'}\n",
    "    response = requests.post(login_url,data=payload)\n",
    "    access_token = response.json()[\"access_token\"]\n",
    "    print(access_token)\n",
    "    for k in range(0,50):\n",
    "        vote_data = {\"post_id\": k+1,\"dir\": 1}\n",
    "        headers = {'Authorization': 'Bearer ' + access_token}\n",
    "        auth_response = requests.post(vote_url, json=vote_data, headers=headers)\n",
    "        print(auth_response.json())\n",
    "\n"
   ]
  }
 ],
 "metadata": {
  "kernelspec": {
   "display_name": "Python 3.10.5 64-bit",
   "language": "python",
   "name": "python3"
  },
  "language_info": {
   "codemirror_mode": {
    "name": "ipython",
    "version": 3
   },
   "file_extension": ".py",
   "mimetype": "text/x-python",
   "name": "python",
   "nbconvert_exporter": "python",
   "pygments_lexer": "ipython3",
   "version": "3.10.5"
  },
  "orig_nbformat": 4,
  "vscode": {
   "interpreter": {
    "hash": "248898ad65561dfdc1851a2f6ad9732515af416f76937f5f332ef2e831048e0e"
   }
  }
 },
 "nbformat": 4,
 "nbformat_minor": 2
}
